{
 "cells": [
  {
   "cell_type": "code",
   "execution_count": 22,
   "metadata": {},
   "outputs": [],
   "source": [
    "data = open(\"input_data/sample.txt\", \"r\")"
   ]
  },
  {
   "cell_type": "code",
   "execution_count": 23,
   "metadata": {},
   "outputs": [],
   "source": [
    "sentnece = \"\".join(data.readlines())"
   ]
  },
  {
   "cell_type": "code",
   "execution_count": 24,
   "metadata": {},
   "outputs": [
    {
     "data": {
      "text/plain": [
       "'■Pythonで開発するメリット\\n1.文法が覚えやすい\\nPythonの大きな特徴としては文法を覚えやすいこと。プログラミング言語を学んでいくに当たって、プログラミングの仕組みを理解した後には、英語やフランス語など話すための言語を覚えるのと同じで、プログラミング言語ごとに文法を覚えることになります。Pythonの場合、その文法が必要最低限のものしかなく、シンプルで覚えやすい文法となっています。他のエンジニアが書いたコードを読んで勉強することもできます。\\n2.読みやすい・書きやすい\\nPythonは読みやすさや書きやすさを重視して開発されたプログラミング言語で、誰が書いても似たコードになります。コードは書いた本人でも分からなくなってしまうこともあるのですが、Pythonの場合には解読しやすく、初心者がベテランの記述したコードを読んで学ぶことができるというのが魅力です。読みやすくするための記述ルールの1つに、オフサイドルールがあります。これは行の始まりをインデント（字下げ）して文の塊を表すルールのことです。入れ子構造が深くなるにつれて文が右側に書かれる（インデントで左側にスペースが開く）ようになるので、直感的に入れ子構造を理解でき、読みやすくなります。\\n3.ライブラリが多い\\nライブラリとは、汎用性の高いコードをまとめたプログラムのことです。このライブラリとして作成されているものを自分のプログラムに組み込むことができるため、ライブラリを上手く活用することで自分が一からすべて作るのではなく、効率的にプログラムの作成を進めることができます。Pythonの場合は、数万に上るほど豊富なライブラリが公開されており、プログラミングしやすい環境が整っています。ライブラリには以下のようなものがあります。\\n4.インタプリタ型のためエラーを直しやすい\\nプログラミング言語にはコンパイラ型とインタプリタ型があります。コンパイラ型の場合には一度すべてコーディングした後にコンパイルして実行ファイルを作成し、それを読み込ませるとプログラムが実行するという流れになります。インタプリタ型の場合はプログラム実行と同時にコードを読み込むため、あらかじめコンパイルしておく必要がありません。インタプリタ型の場合には確認がしやすく、結果的にエラーが少なくなりエラーの解読に時間がかかりにくくなります。コンパイラ型で発生した大量のエラーを直していく作業は根気がいるため、不慣れな初心者には精神的なハードルが高いと言えるでしょう。そうしたこともあり、インタプリタ型のPythonはエラーを直しやすく、初心者にも取り掛かりやすい言語と言えます。\\n5.機械学習\\n現在、世界的に見て機械学習や深層学習（ディープラーニング）などAI分野への注目が集まっています。このAI分野のプログラム処理には高度な計算や統計処理が必要となるのですが、そこで役立つのがPythonです。AI分野の外部ライブラリも充実しており、Googleが開発したTensorFlowやFACEBOOKが開発したPyTorchという深層学習のライブラリ、データ解析に役立つpandasというライブラリなどがあります。こうした理由があり、AI分野の開発にはPythonが欠かせなくなっています。'"
      ]
     },
     "execution_count": 24,
     "metadata": {},
     "output_type": "execute_result"
    }
   ],
   "source": [
    "sentnece"
   ]
  },
  {
   "cell_type": "code",
   "execution_count": 25,
   "metadata": {},
   "outputs": [
    {
     "data": {
      "text/plain": [
       "str"
      ]
     },
     "execution_count": 25,
     "metadata": {},
     "output_type": "execute_result"
    }
   ],
   "source": [
    "type\"input_data/sample.txt\""
   ]
  },
  {
   "cell_type": "code",
   "execution_count": 27,
   "metadata": {},
   "outputs": [],
   "source": [
    "a = \"dec\""
   ]
  },
  {
   "cell_type": "code",
   "execution_count": 31,
   "metadata": {},
   "outputs": [
    {
     "data": {
      "text/plain": [
       "False"
      ]
     },
     "execution_count": 31,
     "metadata": {},
     "output_type": "execute_result"
    }
   ],
   "source": [
    "\"d\" and \"k\" in a"
   ]
  },
  {
   "cell_type": "code",
   "execution_count": null,
   "metadata": {},
   "outputs": [],
   "source": []
  }
 ],
 "metadata": {
  "kernelspec": {
   "display_name": "Python 3",
   "language": "python",
   "name": "python3"
  },
  "language_info": {
   "codemirror_mode": {
    "name": "ipython",
    "version": 3
   },
   "file_extension": ".py",
   "mimetype": "text/x-python",
   "name": "python",
   "nbconvert_exporter": "python",
   "pygments_lexer": "ipython3",
   "version": "3.8.3"
  }
 },
 "nbformat": 4,
 "nbformat_minor": 4
}
